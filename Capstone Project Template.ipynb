{
 "cells": [
  {
   "cell_type": "markdown",
   "metadata": {},
   "source": [
    "# Project Title\n",
    "### Data Engineering Capstone Project\n",
    "\n",
    "#### Project Summary\n",
    "--describe your project at a high level--\n",
    "\n",
    "The project follows the follow steps:\n",
    "* Step 1: Scope the Project and Gather Data\n",
    "* Step 2: Explore and Assess the Data\n",
    "* Step 3: Define the Data Model\n",
    "* Step 4: Run ETL to Model the Data\n",
    "* Step 5: Complete Project Write Up"
   ]
  },
  {
   "cell_type": "code",
   "execution_count": 1,
   "metadata": {},
   "outputs": [],
   "source": [
    "# Do all imports and installs here\n",
    "#import vaex\n",
    "import pandas as pd\n",
    "import json"
   ]
  },
  {
   "cell_type": "markdown",
   "metadata": {},
   "source": [
    "### Step 1: Scope the Project and Gather Data\n",
    "\n",
    "#### Scope \n",
    "Explain what you plan to do in the project in more detail. What data do you use? What is your end solution look like? What tools did you use? etc>\n",
    "\n",
    "This project is about modelling and preparing data about immigration to US. The model will facilitate analytics around this data to figure out where the immigrants come frome why. Also which are the most used airports for immigration. \n",
    "\n",
    "#### Describe and Gather Data \n",
    "Describe the data sets you're using. Where did it come from? What type of information is included? \n",
    "\n",
    "The following are the datasets used in this project:\n",
    " - I94 Immigration Data: This data comes from the US National Tourism and Trade Office. We will use data for year 2016. The files are divided into 12 file (file per month). \n",
    " - World Temperature Data: This dataset is about the average temprature per city per country.\n",
    " - U.S. City Demographic Data: This dataset contains information about the demographics of all US cities and census-designated places with a population greater or equal to 65,000.\n",
    " - Airport Code Table: This is a lookup for the airports around the world and itsrelated informaiton (name,codelocation,coordinates,... etc).\n",
    " - Country GDP annual growth: This dataset countains the GDP per country since1960 till 2020."
   ]
  },
  {
   "cell_type": "code",
   "execution_count": 2,
   "metadata": {},
   "outputs": [],
   "source": [
    "#df1=pd.read_csv(\"./covid/covid-19-data-master/public/data/ecdc/full_data.csv\")\n",
    "#df1=pd.read_csv(\"./covid/covid-19-data-master/public/data/jhu/full_data.csv\")\n",
    "#df1=pd.read_csv(\"./covid/covid-19-data-master/public/data/testing/covid-testing-latest-data-source-details.csv\")\n",
    "#df1=pd.read_csv(\"./covid/covid-19-data-master/public/data/vaccinations/vaccinations.csv\")\n",
    "#df1=pd.read_csv(\"./covid/covid-19-data-master/public/data/vaccinations/vaccinations-by-age-group.csv\")\n",
    "#df1=pd.read_csv(\"./covid/covid-19-data-master/public/data/vaccinations/vaccinations-by-manufacturer.csv\")\n",
    "#df1=pd.read_csv(\"./covid/covid-19-data-master/public/data/variants/covid-variants.csv\")\n",
    "#df2=pd.read_csv(\"./covid/COVID-19-master/csse_covid_19_data/csse_covid_19_daily_reports/01-05-2021.csv\") -- more than 2 million\n",
    "#df3=pd.read_csv(\"./covid/covid19-public-health-social-measures/phsm-severity-data-new.csv\")\n",
    "#df4=pd.read_csv(\"./covid/oxford-covid19-government-response-tracker/OxCGRT_latest_combined.csv\")\n",
    "####################imagration###############3\n",
    "#fname = './immigration/data/18-83510-I94-Data-2016/i94_apr16_sub.sas7bdat'\n",
    "#df = pd.read_sas(fname, 'sas7bdat', encoding=\"ISO-8859-1\")\n",
    "\n",
    "#df=pd.read_csv(\"./immigration/airport-codes_csv.csv\")\n",
    "#df=pd.read_csv(\"./immigration/data2/GlobalLandTemperaturesByCity.csv\")\n",
    "#df=pd.read_csv(\"./immigration/us-cities-demographics.csv\",sep=\";\")\n",
    "#df=pd.read_csv(\"./immigration/GDP_annual_growth.csv\")\n",
    "df = pd.read_csv(\"./google-playstore-apps/Google-Playstore.csv\")\n",
    "#with open('./googleplay-app-permission/sample.json','r',encoding='utf-8') as f:\n",
    "#    data = json.loads(f.read())\n",
    "#df = pd.json_normalize(data,record_path=['allPermissions'],meta=['appId','appName'])"
   ]
  },
  {
   "cell_type": "code",
   "execution_count": 14,
   "metadata": {},
   "outputs": [
    {
     "data": {
      "text/html": [
       "<div>\n",
       "<style scoped>\n",
       "    .dataframe tbody tr th:only-of-type {\n",
       "        vertical-align: middle;\n",
       "    }\n",
       "\n",
       "    .dataframe tbody tr th {\n",
       "        vertical-align: top;\n",
       "    }\n",
       "\n",
       "    .dataframe thead th {\n",
       "        text-align: right;\n",
       "    }\n",
       "</style>\n",
       "<table border=\"1\" class=\"dataframe\">\n",
       "  <thead>\n",
       "    <tr style=\"text-align: right;\">\n",
       "      <th></th>\n",
       "      <th>Rating</th>\n",
       "      <th>Rating Count</th>\n",
       "      <th>Privacy Policy</th>\n",
       "      <th>Editors Choice</th>\n",
       "      <th>Category</th>\n",
       "      <th>Content Rating</th>\n",
       "    </tr>\n",
       "  </thead>\n",
       "  <tbody>\n",
       "    <tr>\n",
       "      <th>0</th>\n",
       "      <td>0.0</td>\n",
       "      <td>0.0</td>\n",
       "      <td>https://beniyizibyose.tk/projects/</td>\n",
       "      <td>False</td>\n",
       "      <td>Adventure</td>\n",
       "      <td>Everyone</td>\n",
       "    </tr>\n",
       "    <tr>\n",
       "      <th>1</th>\n",
       "      <td>4.4</td>\n",
       "      <td>64.0</td>\n",
       "      <td>https://dev4phones.wordpress.com/licencia-de-uso/</td>\n",
       "      <td>False</td>\n",
       "      <td>Tools</td>\n",
       "      <td>Everyone</td>\n",
       "    </tr>\n",
       "    <tr>\n",
       "      <th>2</th>\n",
       "      <td>0.0</td>\n",
       "      <td>0.0</td>\n",
       "      <td>https://www.vietnamairlines.com/vn/en/terms-an...</td>\n",
       "      <td>False</td>\n",
       "      <td>Productivity</td>\n",
       "      <td>Everyone</td>\n",
       "    </tr>\n",
       "    <tr>\n",
       "      <th>3</th>\n",
       "      <td>5.0</td>\n",
       "      <td>5.0</td>\n",
       "      <td>NaN</td>\n",
       "      <td>False</td>\n",
       "      <td>Communication</td>\n",
       "      <td>Everyone</td>\n",
       "    </tr>\n",
       "    <tr>\n",
       "      <th>4</th>\n",
       "      <td>0.0</td>\n",
       "      <td>0.0</td>\n",
       "      <td>http://www.horodyski.com.pl</td>\n",
       "      <td>False</td>\n",
       "      <td>Tools</td>\n",
       "      <td>Everyone</td>\n",
       "    </tr>\n",
       "  </tbody>\n",
       "</table>\n",
       "</div>"
      ],
      "text/plain": [
       "   Rating  Rating Count                                     Privacy Policy  \\\n",
       "0     0.0           0.0                 https://beniyizibyose.tk/projects/   \n",
       "1     4.4          64.0  https://dev4phones.wordpress.com/licencia-de-uso/   \n",
       "2     0.0           0.0  https://www.vietnamairlines.com/vn/en/terms-an...   \n",
       "3     5.0           5.0                                                NaN   \n",
       "4     0.0           0.0                        http://www.horodyski.com.pl   \n",
       "\n",
       "   Editors Choice       Category Content Rating  \n",
       "0           False      Adventure       Everyone  \n",
       "1           False          Tools       Everyone  \n",
       "2           False   Productivity       Everyone  \n",
       "3           False  Communication       Everyone  \n",
       "4           False          Tools       Everyone  "
      ]
     },
     "execution_count": 14,
     "metadata": {},
     "output_type": "execute_result"
    }
   ],
   "source": [
    "#df[['cicid', 'i94yr', 'i94mon', 'i94cit','i94res','arrdate','i94mode','i94addr','depdate','i94bir','dtadfile','visapost'\n",
    "#   ,'occup','entdepa','visatype']].head()\n",
    "#df.loc[df[\"airline\"]==\"AMX\",['cicid', 'i94yr', 'i94mon', 'i94cit','i94res','arrdate','i94mode','i94addr','depdate','i94bir','dtadfile','visapost'\n",
    "#   ,'occup','entdepa','airline']]\n",
    "\n",
    "#df[\"airline\"].unique()\n",
    "df[['Rating','Rating Count', 'Privacy Policy','Editors Choice','Category','Content Rating']].head()\n",
    "#df['Editors Choice'].unique()\n",
    "#df.head()"
   ]
  },
  {
   "cell_type": "code",
   "execution_count": 4,
   "metadata": {},
   "outputs": [
    {
     "data": {
      "text/plain": [
       "Index(['App Name', 'App Id', 'Category', 'Rating', 'Rating Count', 'Installs',\n",
       "       'Minimum Installs', 'Maximum Installs', 'Free', 'Price', 'Currency',\n",
       "       'Size', 'Minimum Android', 'Developer Id', 'Developer Website',\n",
       "       'Developer Email', 'Released', 'Last Updated', 'Content Rating',\n",
       "       'Privacy Policy', 'Ad Supported', 'In App Purchases', 'Editors Choice',\n",
       "       'Scraped Time'],\n",
       "      dtype='object')"
      ]
     },
     "execution_count": 4,
     "metadata": {},
     "output_type": "execute_result"
    }
   ],
   "source": [
    "df.columns"
   ]
  },
  {
   "cell_type": "code",
   "execution_count": null,
   "metadata": {},
   "outputs": [],
   "source": [
    "import pandas_profiling\n",
    "#pandas_profiling.ProfileReport(df5)\n",
    "#profile = df.profile_report(title=\"Weather data profiling report\", pool_size=1)\n",
    "profile = df.profile_report(\n",
    "    missing_diagrams={\n",
    "        \"heatmap\": False,\n",
    "        \"dendrogram\": False,\n",
    "        #\"bar\": False,\n",
    "        \"matrix\": False\n",
    "    }\n",
    ")\n",
    "#profile.config.html.minify_html = False\n",
    "profile.to_file(\"Googl_App_Store.html\")"
   ]
  },
  {
   "cell_type": "code",
   "execution_count": null,
   "metadata": {},
   "outputs": [],
   "source": [
    "del df"
   ]
  },
  {
   "cell_type": "code",
   "execution_count": null,
   "metadata": {},
   "outputs": [],
   "source": [
    "from pyspark.sql import SparkSession\n",
    "\n",
    "spark = SparkSession.builder.\\\n",
    "config(\"spark.jars.repositories\", \"https://repos.spark-packages.org/\").\\\n",
    "config(\"spark.jars.packages\", \"saurfang:spark-sas7bdat:2.0.0-s_2.11\").\\\n",
    "enableHiveSupport().getOrCreate()\n",
    "\n",
    "df_spark = spark.read.format('com.github.saurfang.sas.spark').load('../../data/18-83510-I94-Data-2016/i94_apr16_sub.sas7bdat')\n"
   ]
  },
  {
   "cell_type": "code",
   "execution_count": null,
   "metadata": {},
   "outputs": [],
   "source": [
    "#write to parquet\n",
    "df_spark.write.parquet(\"sas_data\")\n",
    "df_spark=spark.read.parquet(\"sas_data\")"
   ]
  },
  {
   "cell_type": "markdown",
   "metadata": {},
   "source": [
    "### Step 2: Explore and Assess the Data\n",
    "#### Explore the Data \n",
    "Identify data quality issues, like missing values, duplicate data, etc.\n",
    "Please refer to the profiling reports (refer to html files)\n",
    "\n",
    "#### Cleaning Steps\n",
    "Document steps necessary to clean the data"
   ]
  },
  {
   "cell_type": "code",
   "execution_count": null,
   "metadata": {},
   "outputs": [],
   "source": [
    "# Performing cleaning tasks here\n",
    "\n",
    "\n",
    "\n"
   ]
  },
  {
   "cell_type": "markdown",
   "metadata": {},
   "source": [
    "### Step 3: Define the Data Model\n",
    "#### 3.1 Conceptual Data Model\n",
    "Map out the conceptual data model and explain why you chose that model\n",
    "\n",
    "#### 3.2 Mapping Out Data Pipelines\n",
    "List the steps necessary to pipeline the data into the chosen data model"
   ]
  },
  {
   "cell_type": "markdown",
   "metadata": {},
   "source": [
    "### Step 4: Run Pipelines to Model the Data \n",
    "#### 4.1 Create the data model\n",
    "Build the data pipelines to create the data model."
   ]
  },
  {
   "cell_type": "code",
   "execution_count": null,
   "metadata": {},
   "outputs": [],
   "source": [
    "# Write code here"
   ]
  },
  {
   "cell_type": "markdown",
   "metadata": {},
   "source": [
    "#### 4.2 Data Quality Checks\n",
    "Explain the data quality checks you'll perform to ensure the pipeline ran as expected. These could include:\n",
    " * Integrity constraints on the relational database (e.g., unique key, data type, etc.)\n",
    " * Unit tests for the scripts to ensure they are doing the right thing\n",
    " * Source/Count checks to ensure completeness\n",
    " \n",
    "Run Quality Checks"
   ]
  },
  {
   "cell_type": "code",
   "execution_count": null,
   "metadata": {},
   "outputs": [],
   "source": [
    "# Perform quality checks here"
   ]
  },
  {
   "cell_type": "markdown",
   "metadata": {},
   "source": [
    "#### 4.3 Data dictionary \n",
    "Create a data dictionary for your data model. For each field, provide a brief description of what the data is and where it came from. You can include the data dictionary in the notebook or in a separate file."
   ]
  },
  {
   "cell_type": "markdown",
   "metadata": {},
   "source": [
    "#### Step 5: Complete Project Write Up\n",
    "* Clearly state the rationale for the choice of tools and technologies for the project.\n",
    "* Propose how often the data should be updated and why.\n",
    "* Write a description of how you would approach the problem differently under the following scenarios:\n",
    " * The data was increased by 100x.\n",
    " * The data populates a dashboard that must be updated on a daily basis by 7am every day.\n",
    " * The database needed to be accessed by 100+ people."
   ]
  },
  {
   "cell_type": "code",
   "execution_count": null,
   "metadata": {},
   "outputs": [],
   "source": []
  },
  {
   "cell_type": "code",
   "execution_count": null,
   "metadata": {},
   "outputs": [],
   "source": []
  },
  {
   "cell_type": "code",
   "execution_count": null,
   "metadata": {},
   "outputs": [],
   "source": []
  },
  {
   "cell_type": "code",
   "execution_count": null,
   "metadata": {},
   "outputs": [],
   "source": []
  },
  {
   "cell_type": "code",
   "execution_count": null,
   "metadata": {},
   "outputs": [],
   "source": []
  },
  {
   "cell_type": "code",
   "execution_count": null,
   "metadata": {},
   "outputs": [],
   "source": []
  }
 ],
 "metadata": {
  "kernelspec": {
   "display_name": "Python 3 (ipykernel)",
   "language": "python",
   "name": "python3"
  },
  "language_info": {
   "codemirror_mode": {
    "name": "ipython",
    "version": 3
   },
   "file_extension": ".py",
   "mimetype": "text/x-python",
   "name": "python",
   "nbconvert_exporter": "python",
   "pygments_lexer": "ipython3",
   "version": "3.8.11"
  }
 },
 "nbformat": 4,
 "nbformat_minor": 4
}
